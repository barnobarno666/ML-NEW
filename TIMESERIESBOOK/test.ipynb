{
 "cells": [
  {
   "cell_type": "code",
   "execution_count": 11,
   "metadata": {},
   "outputs": [
    {
     "data": {
      "text/plain": [
       "{'Alice': 0,\n",
       " 'Bob': 1,\n",
       " 'Charlie': 2,\n",
       " 'David': 3,\n",
       " 'Emily': 4,\n",
       " 'Frank': 5,\n",
       " 'Grace': 6,\n",
       " 'Henry': 7,\n",
       " 'Ivy': 8,\n",
       " 'Jack': 9}"
      ]
     },
     "execution_count": 11,
     "metadata": {},
     "output_type": "execute_result"
    }
   ],
   "source": [
    "import pandas as pd\n",
    "names = [\"Alice\", \"Bob\", \"Charlie\", \"David\", \"Emily\", \"Frank\", \"Grace\", \"Henry\", \"Ivy\", \"Jack\"]\n",
    "ages = [25, 30, 35, 40, 45, 50, 55, 60, 65, 70]\n",
    "\n",
    "train_df = ({name: age for name, age in zip(names, ages)})\n",
    "\n",
    "# d={name: i for i, name in enumerate(train_df.columns)}\n",
    "# print(d,train_df)\n",
    "train_df=pd.DataFrame(train_df,index=[0])\n",
    "\n",
    "\n",
    "d={name: i for i, name in enumerate(train_df.columns)}\n",
    "\"\"\" this functions turns the dataframe into a dictionary with the column names as keys and the column index as values\"\"\" "
   ]
  }
 ],
 "metadata": {
  "kernelspec": {
   "display_name": "Python 3",
   "language": "python",
   "name": "python3"
  },
  "language_info": {
   "codemirror_mode": {
    "name": "ipython",
    "version": 3
   },
   "file_extension": ".py",
   "mimetype": "text/x-python",
   "name": "python",
   "nbconvert_exporter": "python",
   "pygments_lexer": "ipython3",
   "version": "3.11.0"
  }
 },
 "nbformat": 4,
 "nbformat_minor": 2
}
